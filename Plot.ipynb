{
 "cells": [
  {
   "cell_type": "code",
   "execution_count": null,
   "metadata": {},
   "outputs": [],
   "source": [
    "data = y\n",
    "x = np.arange(data.shape[0])\n",
    "d = 1./(data.shape[1]+2.)\n",
    "fig, ax=plt.subplots()\n",
    "for i in range(data.shape[1]):\n",
    "  CATEGORIES = [\"H\", \"L\", \"T\", \"V\"]\n",
    "  ax.bar(x,data[:,i], width=d, label=\"person is : {}\".format(CATEGORIES[i]))\n",
    "plt.legend(loc=\"upper center\")\n",
    "ax.axes.yaxis.set_visible(False)\n",
    "plt.ylim(0, 1.5)\n",
    "plt.show()"
   ]
  }
 ],
 "metadata": {
  "kernelspec": {
   "display_name": "Python 3",
   "language": "python",
   "name": "python3"
  },
  "language_info": {
   "codemirror_mode": {
    "name": "ipython",
    "version": 3
   },
   "file_extension": ".py",
   "mimetype": "text/x-python",
   "name": "python",
   "nbconvert_exporter": "python",
   "pygments_lexer": "ipython3",
   "version": "3.9.1"
  }
 },
 "nbformat": 4,
 "nbformat_minor": 4
}
